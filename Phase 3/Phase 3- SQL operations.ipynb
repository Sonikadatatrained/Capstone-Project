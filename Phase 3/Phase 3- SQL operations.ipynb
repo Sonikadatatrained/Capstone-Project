{
 "cells": [
  {
   "cell_type": "raw",
   "id": "212b931e",
   "metadata": {},
   "source": [
    "Phase 3- SQL operations"
   ]
  },
  {
   "cell_type": "code",
   "execution_count": 64,
   "id": "960ca0f3",
   "metadata": {},
   "outputs": [],
   "source": [
    "import sqlite3\n",
    "import csv\n",
    "import pandas as pd"
   ]
  },
  {
   "cell_type": "code",
   "execution_count": 65,
   "id": "2a766cc2",
   "metadata": {},
   "outputs": [],
   "source": [
    "db=sqlite3.connect(\"crime_database\")"
   ]
  },
  {
   "cell_type": "code",
   "execution_count": 66,
   "id": "7a45d3fc",
   "metadata": {},
   "outputs": [],
   "source": [
    "cursor=db.cursor()"
   ]
  },
  {
   "cell_type": "code",
   "execution_count": null,
   "id": "aba34705",
   "metadata": {},
   "outputs": [],
   "source": [
    "cursor.execute(\"CREATE TABLE crimes_against_women (state UT TEXT,DISTRICT TEXT,Year INT,Rape INT,Kindanpping INT,Dowry Deaths INT,Assault INT,Insult  INT,Cruelty by Husband  INT,Importation of Girls INT) \")\n",
    "db.commit()"
   ]
  },
  {
   "cell_type": "code",
   "execution_count": 71,
   "id": "e0f4ea8f",
   "metadata": {},
   "outputs": [],
   "source": [
    "with open('C:/Users/armaa/OneDrive/Documents/GitHub/Capstone_Project-Crime-in-india/Capstone-Project/Datasets/42_District_wise_crimes_committed_against_women_2001_2012.csv','r') as file :\n",
    "    #here r is read as\n",
    "    no_records=0\n",
    "    for row in file:\n",
    "        cursor.execute(\"INSERT INTO crimes_against_women VALUES(?,?,?,?,?,?,?,?,?,?)\",row.split(\",\"))#it will split the data row.split\n",
    "        db.commit()\n",
    "        no_records += 1\n",
    "    "
   ]
  },
  {
   "cell_type": "code",
   "execution_count": 72,
   "id": "6c4b552d",
   "metadata": {},
   "outputs": [
    {
     "name": "stdout",
     "output_type": "stream",
     "text": [
      "9018 Records Inserted\n"
     ]
    }
   ],
   "source": [
    "print(no_records,'Records Inserted')"
   ]
  },
  {
   "cell_type": "code",
   "execution_count": 73,
   "id": "5176a223",
   "metadata": {},
   "outputs": [
    {
     "name": "stdout",
     "output_type": "stream",
     "text": [
      "('\"STATE/UT\"', '\"DISTRICT\"', '\"Year\"', '\"Rape\"', '\"Kidnapping and Abduction\"')\n",
      "('\"UTTAR PRADESH\"', '\"TOTAL\"', 2012, 3425, 7910)\n",
      "('\"UTTAR PRADESH\"', '\"TOTAL\"', 2011, 3406, 7525)\n",
      "('\"UTTAR PRADESH\"', '\"TOTAL\"', 2010, 3135, 5468)\n",
      "('\"UTTAR PRADESH\"', '\"TOTAL\"', 2009, 2998, 5078)\n",
      "('\"UTTAR PRADESH\"', '\"TOTAL\"', 2008, 2937, 4439)\n",
      "('\"UTTAR PRADESH\"', '\"TOTAL\"', 2007, 3010, 3363)\n",
      "('\"UTTAR PRADESH\"', '\"TOTAL\"', 2001, 2851, 2879)\n",
      "('\"UTTAR PRADESH\"', '\"TOTAL\"', 2006, 2900, 2551)\n",
      "('\"UTTAR PRADESH\"', '\"TOTAL\"', 2004, 2875, 2324)\n",
      "('\"UTTAR PRADESH\"', '\"TOTAL\"', 2002, 2891, 2298)\n",
      "('\"UTTAR PRADESH\"', '\"TOTAL\"', 2005, 2921, 2256)\n",
      "('\"RAJASTHAN\"', '\"TOTAL\"', 2003, 2738, 1750)\n"
     ]
    }
   ],
   "source": [
    "result=cursor.execute(\"SELECT  state UT, DISTRICT ,Year ,MAX(Rape), MAX(Kindanpping) FROM crimes_against_women WHERE NOT DISTRICT='TOTAL' AND NOT DISTRICT='DELHI UT TOTAL' GROUP BY Year ORDER BY Kindanpping DESC\")\n",
    "for row in result:\n",
    "    print(row)"
   ]
  },
  {
   "cell_type": "code",
   "execution_count": 74,
   "id": "73793e49",
   "metadata": {},
   "outputs": [],
   "source": [
    "#3.3 Write SQL query to find All the lowest number of rapes & Kidnappings that happened in which state, District, and year"
   ]
  },
  {
   "cell_type": "code",
   "execution_count": 75,
   "id": "c281d730",
   "metadata": {},
   "outputs": [
    {
     "name": "stdout",
     "output_type": "stream",
     "text": [
      "('\"A & N ISLANDS\"', '\"NICOBAR\"', 2001, 0, 0)\n",
      "('\"ANDHRA PRADESH\"', '\"GUNTAKAL RLY.\"', 2001, 0, 0)\n",
      "('\"ARUNACHAL PRADESH\"', '\"TAWANG\"', 2001, 0, 0)\n",
      "('\"ASSAM\"', '\"C.I.D.\"', 2001, 0, 0)\n",
      "('\"BIHAR\"', '\"ARWAL\"', 2001, 0, 0)\n",
      "('\"CHHATTISGARH\"', '\"BIZAPUR\"', 2001, 0, 0)\n",
      "('\"DAMAN & DIU\"', '\"DIU\"', 2001, 0, 0)\n",
      "('\"DELHI\"', '\"S.T.F.\"', 2001, 0, 0)\n",
      "('\"GUJARAT\"', '\"W.RLY\"', 2001, 0, 0)\n",
      "('\"HARYANA\"', '\"GRP\"', 2002, 0, 0)\n",
      "('\"HIMACHAL PRADESH\"', '\"G.R.P.\"', 2001, 0, 0)\n",
      "('\"JAMMU & KASHMIR\"', '\"CRIME JAMMU\"', 2001, 0, 0)\n",
      "('\"JHARKHAND\"', '\"DEOGHAR\"', 2001, 0, 0)\n",
      "('\"KARNATAKA\"', '\"CHITRADURGA\"', 2001, 0, 0)\n",
      "('\"KERALA\"', '\"CBCID\"', 2001, 0, 0)\n",
      "('\"LAKSHADWEEP\"', '\"LAKSHADWEEP\"', 2001, 0, 0)\n",
      "('\"MADHYA PRADESH\"', '\"INDORE RLY.\"', 2001, 0, 0)\n",
      "('\"MAHARASHTRA\"', '\"MUMBAI RLY.\"', 2001, 0, 0)\n",
      "('\"MANIPUR\"', '\"CHURACHANDPUR\"', 2001, 0, 0)\n",
      "('\"MEGHALAYA\"', '\"GARO HILLS EAST\"', 2001, 0, 0)\n",
      "('\"MIZORAM\"', '\"AIZAWL\"', 2001, 0, 0)\n",
      "('\"NAGALAND\"', '\"KIPHIRE\"', 2001, 0, 0)\n",
      "('\"ODISHA\"', '\"RAYAGADA\"', 2001, 0, 0)\n",
      "('\"PUDUCHERRY\"', '\"KARAIKAL\"', 2011, 0, 0)\n",
      "('\"PUNJAB\"', '\"G.R.P\"', 2001, 0, 0)\n",
      "('\"RAJASTHAN\"', '\"G.R.P.\"', 2003, 0, 0)\n",
      "('\"SIKKIM\"', '\"NORTH\"', 2001, 0, 0)\n",
      "('\"TAMIL NADU\"', '\"CHENNAI\"', 2001, 0, 0)\n",
      "('\"TRIPURA\"', '\"DHALAI\"', 2001, 0, 0)\n",
      "('\"UTTAR PRADESH\"', '\"MAHARAJGANJ\"', 2002, 0, 0)\n",
      "('\"UTTARAKHAND\"', '\"NAINITAL\"', 2001, 0, 0)\n",
      "('\"WEST BENGAL\"', '\"ASANSOL\"', 2001, 0, 0)\n",
      "('\"GOA\"', '\"NORTH GOA\"', 2001, 3, 1)\n",
      "('\"D & N HAVELI\"', '\"D and N HAVELI\"', 2001, 1, 2)\n",
      "('\"CHANDIGARH\"', '\"CHANDIGARH\"', 2003, 18, 28)\n",
      "('\"STATE/UT\"', '\"DISTRICT\"', '\"Year\"', '\"Rape\"', '\"Kidnapping and Abduction\"')\n"
     ]
    }
   ],
   "source": [
    "result=cursor.execute(\"SELECT  state UT, DISTRICT ,Year ,MIN(Rape), MIN(Kindanpping) FROM crimes_against_women WHERE NOT DISTRICT='TOTAL' AND NOT DISTRICT='DELHI UT TOTAL' GROUP BY UT ORDER BY Kindanpping\")\n",
    "for row in result:\n",
    "    print(row)"
   ]
  },
  {
   "cell_type": "code",
   "execution_count": 76,
   "id": "bf54b4a7",
   "metadata": {},
   "outputs": [],
   "source": [
    "#3.4 Insert records from 02_District_wise_crimes_committed_against_ST_2001_2012.csv into a new table"
   ]
  },
  {
   "cell_type": "code",
   "execution_count": null,
   "id": "3d8dd5ef",
   "metadata": {},
   "outputs": [],
   "source": [
    "cursor.execute(\"CREATE TABLE crime_against_st (state UT TEXT,DISTRICT TEXT,Year INT,Murder INT,Rape INT,Kidanpping INT,Dacoity INT,Robbery INT,Arson  INT,Hurt INT,PCR INT,POA INT,Other Crimes INT) \")\n",
    "db.commit()"
   ]
  },
  {
   "cell_type": "code",
   "execution_count": 78,
   "id": "39c85e02",
   "metadata": {},
   "outputs": [],
   "source": [
    "with open('C:/Users/armaa/OneDrive/Documents/GitHub/Capstone_Project-Crime-in-india/Capstone-Project/Datasets/02_District_wise_crimes_committed_against_ST_2001_2012.csv','r') as file :\n",
    "    #here r is read as\n",
    "    no_records=0\n",
    "    for row in file:\n",
    "        cursor.execute(\"INSERT INTO crime_against_st VALUES(?,?,?,?,?,?,?,?,?,?,?,?,?)\",row.split(\",\"))#it will split the data row.split\n",
    "        db.commit()\n",
    "        no_records += 1"
   ]
  },
  {
   "cell_type": "code",
   "execution_count": 79,
   "id": "f56cccf1",
   "metadata": {},
   "outputs": [
    {
     "name": "stdout",
     "output_type": "stream",
     "text": [
      "9019 Records Inserted\n"
     ]
    }
   ],
   "source": [
    "print(no_records,'Records Inserted')"
   ]
  },
  {
   "cell_type": "code",
   "execution_count": 80,
   "id": "f69f4006",
   "metadata": {},
   "outputs": [],
   "source": [
    "#3.5 Write SQL query to find the highest number of dacoity/robbery in which district."
   ]
  },
  {
   "cell_type": "code",
   "execution_count": 81,
   "id": "753f586c",
   "metadata": {},
   "outputs": [
    {
     "name": "stdout",
     "output_type": "stream",
     "text": [
      "('\"STATE/UT\"', '\"DISTRICT\"', '\"Year\"', '\"Dacoity\"', '\"Robbery\"')\n"
     ]
    }
   ],
   "source": [
    "result=cursor.execute(\"SELECT State UT,DISTRICT ,Year, MAX(Dacoity), MAX(Robbery) FROM crime_against_st WHERE NOT DISTRICT ='TOTAL'  \")\n",
    "for row in result:\n",
    "    print(row)"
   ]
  },
  {
   "cell_type": "code",
   "execution_count": 82,
   "id": "74348f5b",
   "metadata": {},
   "outputs": [],
   "source": [
    "#3.6 Write SQL query to find in which districts(All) the lowest number of murders happened"
   ]
  },
  {
   "cell_type": "code",
   "execution_count": 83,
   "id": "2358eb28",
   "metadata": {},
   "outputs": [
    {
     "name": "stdout",
     "output_type": "stream",
     "text": [
      "('\"A & N ISLANDS\"', '\"ANDAMAN\"', 0)\n",
      "('\"ANDHRA PRADESH\"', '\"ADILABAD\"', 0)\n",
      "('\"ARUNACHAL PRADESH\"', '\"CHANGLANG\"', 0)\n",
      "('\"ASSAM\"', '\"BARPETA\"', 0)\n",
      "('\"BIHAR\"', '\"ARWAL\"', 0)\n",
      "('\"CHANDIGARH\"', '\"CHANDIGARH\"', 0)\n",
      "('\"CHHATTISGARH\"', '\"BALRAMPUR\"', 0)\n",
      "('\"D & N HAVELI\"', '\"D and N HAVELI\"', 0)\n",
      "('\"DAMAN & DIU\"', '\"DAMAN\"', 0)\n",
      "('\"DELHI\"', '\"CENTRAL\"', 0)\n",
      "('\"GOA\"', '\"NORTH GOA\"', 0)\n",
      "('\"GUJARAT\"', '\"AHMEDABAD COMMR.\"', 0)\n",
      "('\"HARYANA\"', '\"AMBALA\"', 0)\n",
      "('\"HIMACHAL PRADESH\"', '\"BILASPUR\"', 0)\n",
      "('\"JAMMU & KASHMIR\"', '\"ANANTNAG\"', 0)\n",
      "('\"JHARKHAND\"', '\"BOKARO\"', 0)\n",
      "('\"KARNATAKA\"', '\"BAGALKOT\"', 0)\n",
      "('\"KERALA\"', '\"ALAPUZHA\"', 0)\n",
      "('\"LAKSHADWEEP\"', '\"LAKSHADWEEP\"', 0)\n",
      "('\"MADHYA PRADESH\"', '\"BETUL\"', 0)\n",
      "('\"MAHARASHTRA\"', '\"AKOLA\"', 0)\n",
      "('\"MANIPUR\"', '\"BISHNUPUR\"', 0)\n",
      "('\"MEGHALAYA\"', '\"GARO HILLS EAST\"', 0)\n",
      "('\"MIZORAM\"', '\"AIZAWL\"', 0)\n",
      "('\"NAGALAND\"', '\"DIMAPUR\"', 0)\n",
      "('\"ODISHA\"', '\"ANGUL\"', 0)\n",
      "('\"PUDUCHERRY\"', '\"PONDICHERRY\"', 0)\n",
      "('\"PUNJAB\"', '\"AMRITSAR\"', 0)\n",
      "('\"RAJASTHAN\"', '\"AJMER\"', 0)\n",
      "('\"SIKKIM\"', '\"NORTH\"', 0)\n",
      "('\"TAMIL NADU\"', '\"ARIYALUR\"', 0)\n",
      "('\"TRIPURA\"', '\"DHALAI\"', 0)\n",
      "('\"UTTAR PRADESH\"', '\"AGRA\"', 0)\n",
      "('\"UTTARAKHAND\"', '\"ALMORA\"', 0)\n",
      "('\"WEST BENGAL\"', '\"24 PARGANAS NORTH\"', 0)\n"
     ]
    }
   ],
   "source": [
    "result=cursor.execute(\"SELECT State UT,DISTRICT, Murder FROM crime_against_st WHERE Murder=(SELECT MIN(Murder) FROM crime_against_st) GROUP BY state \")\n",
    "for row in result:\n",
    "    print(row)"
   ]
  },
  {
   "cell_type": "code",
   "execution_count": 84,
   "id": "bee48c90",
   "metadata": {},
   "outputs": [],
   "source": [
    "#The Above result of query shows the minimum number of Murdrs happened in eah Ditsrict"
   ]
  },
  {
   "cell_type": "code",
   "execution_count": 85,
   "id": "796f7dc9",
   "metadata": {},
   "outputs": [],
   "source": [
    "#3.7 Write SQL query to find the number of murders in ascending order in district and yearwise."
   ]
  },
  {
   "cell_type": "code",
   "execution_count": 86,
   "id": "cf5d6529",
   "metadata": {},
   "outputs": [
    {
     "name": "stdout",
     "output_type": "stream",
     "text": [
      "('\"A & N ISLANDS\"', '\"ANDAMAN\"', 2001, 0)\n",
      "('\"ANDHRA PRADESH\"', '\"ADILABAD\"', 2001, 0)\n",
      "('\"ARUNACHAL PRADESH\"', '\"CHANGLANG\"', 2001, 0)\n",
      "('\"ASSAM\"', '\"BARPETA\"', 2001, 0)\n",
      "('\"CHANDIGARH\"', '\"CHANDIGARH\"', 2001, 0)\n",
      "('\"CHHATTISGARH\"', '\"BALRAMPUR\"', 2001, 0)\n",
      "('\"D & N HAVELI\"', '\"D and N HAVELI\"', 2001, 0)\n",
      "('\"DAMAN & DIU\"', '\"DAMAN\"', 2001, 0)\n",
      "('\"DELHI\"', '\"CENTRAL\"', 2001, 0)\n",
      "('\"GOA\"', '\"NORTH GOA\"', 2001, 0)\n",
      "('\"GUJARAT\"', '\"AHMEDABAD COMMR.\"', 2001, 0)\n",
      "('\"HARYANA\"', '\"AMBALA\"', 2001, 0)\n",
      "('\"HIMACHAL PRADESH\"', '\"BILASPUR\"', 2001, 0)\n",
      "('\"JAMMU & KASHMIR\"', '\"ANANTNAG\"', 2001, 0)\n",
      "('\"JHARKHAND\"', '\"BOKARO\"', 2001, 0)\n",
      "('\"KARNATAKA\"', '\"BAGALKOT\"', 2001, 0)\n",
      "('\"KERALA\"', '\"ALAPUZHA\"', 2001, 0)\n",
      "('\"LAKSHADWEEP\"', '\"LAKSHADWEEP\"', 2001, 0)\n",
      "('\"MANIPUR\"', '\"BISHNUPUR\"', 2001, 0)\n",
      "('\"MEGHALAYA\"', '\"GARO HILLS EAST\"', 2001, 0)\n",
      "('\"MIZORAM\"', '\"AIZAWL\"', 2001, 0)\n",
      "('\"NAGALAND\"', '\"DIMAPUR\"', 2001, 0)\n",
      "('\"ODISHA\"', '\"ANGUL\"', 2001, 0)\n",
      "('\"PUDUCHERRY\"', '\"PONDICHERRY\"', 2001, 0)\n",
      "('\"PUNJAB\"', '\"AMRITSAR\"', 2001, 0)\n",
      "('\"RAJASTHAN\"', '\"AJMER\"', 2001, 0)\n",
      "('\"TAMIL NADU\"', '\"ARIYALUR\"', 2001, 0)\n",
      "('\"TRIPURA\"', '\"DHALAI\"', 2001, 0)\n",
      "('\"UTTAR PRADESH\"', '\"AGRA\"', 2001, 0)\n",
      "('\"UTTARAKHAND\"', '\"ALMORA\"', 2001, 0)\n",
      "('\"WEST BENGAL\"', '\"24 PARGANAS NORTH\"', 2001, 0)\n",
      "('\"BIHAR\"', '\"ARARIA\"', 2001, 1)\n",
      "('\"MADHYA PRADESH\"', '\"BALAGHAT\"', 2001, 1)\n",
      "('\"MAHARASHTRA\"', '\"AHMEDNAGAR\"', 2001, 1)\n",
      "('\"SIKKIM\"', '\"EAST\"', 2001, 4)\n",
      "('\"STATE/UT\"', '\"DISTRICT\"', '\"Year\"', '\"Murder\"')\n"
     ]
    }
   ],
   "source": [
    "result=cursor.execute(\"SELECT  state, DISTRICT, Year,Murder FROM crime_against_st GROUP BY state ORDER BY Murder  \")\n",
    "for row in result:\n",
    "    print(row)"
   ]
  },
  {
   "cell_type": "code",
   "execution_count": 87,
   "id": "5ed9ee32",
   "metadata": {},
   "outputs": [],
   "source": [
    "#3.8.1Insert records of STATE/UT, DISTRICT, YEAR, MURDER, ATTEMPT TO MURDER, and RAPE columns only from 01_District_wise_crimes_committed_IPC_2001_2012.csv into a new table"
   ]
  },
  {
   "cell_type": "code",
   "execution_count": 88,
   "id": "b912ad27",
   "metadata": {},
   "outputs": [],
   "source": [
    "import pandas as pd"
   ]
  },
  {
   "cell_type": "code",
   "execution_count": null,
   "id": "edcae7dc",
   "metadata": {},
   "outputs": [],
   "source": [
    "cursor.execute (\"CREATE TABLE crime_ipc(STATE UT TEXT,DISTRICT TEXT,YEAR INT, MURDER INT,ATTEMPT_to_MURDER INT,RAPE INT) \")"
   ]
  },
  {
   "cell_type": "code",
   "execution_count": 90,
   "id": "4cc2729c",
   "metadata": {},
   "outputs": [],
   "source": [
    "db.commit()"
   ]
  },
  {
   "cell_type": "code",
   "execution_count": 91,
   "id": "131ae136",
   "metadata": {},
   "outputs": [
    {
     "name": "stdout",
     "output_type": "stream",
     "text": [
      "Inserted 9017 records.\n"
     ]
    }
   ],
   "source": [
    "import csv\n",
    "\n",
    "csv_file_path = 'C:/Users/armaa/OneDrive/Documents/GitHub/Capstone_Project-Crime-in-india/Capstone-Project/Datasets/01_District_wise_crimes_committed_IPC_2001_2012.csv'\n",
    "\n",
    "with open(csv_file_path, 'r') as file:\n",
    "    csv_reader = csv.reader(file)\n",
    "\n",
    "    # Skip the header row if it exists\n",
    "    next(csv_reader, None)\n",
    "\n",
    "    # Use executemany for batch inserts\n",
    "    # Assuming the first 6 values in each row correspond to the columns in your table\n",
    "    rows = [tuple(row[:6]) for row in csv_reader]\n",
    "    cursor.executemany(\"INSERT INTO crime_ipc VALUES (?, ?, ?, ?, ?, ?)\", rows)\n",
    "\n",
    "    # Commit after all records have been inserted\n",
    "    db.commit()\n",
    "    \n",
    "\n",
    "    no_records = len(rows)\n",
    "    print(f\"Inserted {no_records} records.\")\n"
   ]
  },
  {
   "cell_type": "code",
   "execution_count": 92,
   "id": "3d9e4718",
   "metadata": {},
   "outputs": [
    {
     "name": "stdout",
     "output_type": "stream",
     "text": [
      "9017 Records Inserted\n"
     ]
    }
   ],
   "source": [
    "print(no_records,'Records Inserted')"
   ]
  },
  {
   "cell_type": "code",
   "execution_count": 130,
   "id": "dceb1164",
   "metadata": {},
   "outputs": [],
   "source": [
    "#3.8.2 Write SQL query to find which District in each state/ut has the highest number of murders yearwise. Your output should show STATE/UT, YEAR, DISTRICT, and MURDERS."
   ]
  },
  {
   "cell_type": "code",
   "execution_count": 131,
   "id": "a63de52d",
   "metadata": {},
   "outputs": [
    {
     "name": "stdout",
     "output_type": "stream",
     "text": [
      "('BIHAR', 2004, 'PATNA', 542)\n",
      "('UTTAR PRADESH', 2001, 'MUZAFFARNAGAR', 324)\n",
      "('MAHARASHTRA', 2001, 'MUMBAI', 295)\n",
      "('JHARKHAND', 2002, 'RANCHI', 270)\n",
      "('WEST BENGAL', 2010, 'PASCHIM MIDNAPUR', 268)\n",
      "('KARNATAKA', 2010, 'BANGALORE COMMR.', 266)\n",
      "('GUJARAT', 2002, 'AHMEDABAD COMMR.', 222)\n",
      "('ANDHRA PRADESH', 2001, 'RANGA REDDY', 214)\n",
      "('TAMIL NADU', 2012, 'CHENNAI', 180)\n",
      "('JAMMU & KASHMIR', 2001, 'BARAMULLA', 144)\n",
      "('ASSAM', 2007, 'TINSUKIA', 143)\n",
      "('MADHYA PRADESH', 2004, 'JHABUA', 139)\n",
      "('CHHATTISGARH', 2006, 'BIZAPUR', 139)\n",
      "('TRIPURA', 2003, 'WEST', 136)\n",
      "('DELHI UT', 2002, 'NORTH WEST', 135)\n",
      "('ODISHA', 2009, 'KEONJHAR', 109)\n",
      "('RAJASTHAN', 2011, 'ALWAR', 104)\n",
      "('UTTARAKHAND', 2001, 'HARIDWAR', 94)\n",
      "('HARYANA', 2006, 'GURGAON', 93)\n",
      "('PUNJAB', 2010, 'CP LUDHIANA', 90)\n",
      "('NAGALAND', 2008, 'DIMAPUR', 64)\n",
      "('MANIPUR', 2007, 'IMPHAL WEST', 61)\n",
      "('KERALA', 2002, 'TRIVANDRUM', 58)\n",
      "('MEGHALAYA', 2003, 'JAINTIA HILLS', 52)\n",
      "('HIMACHAL PRADESH', 2003, 'KANGRA', 38)\n",
      "('GOA', 2009, 'NORTH GOA', 33)\n",
      "('PUDUCHERRY', 2011, 'PUDUCHERRY', 32)\n",
      "('CHANDIGARH', 2002, 'CHANDIGARH', 31)\n",
      "('MIZORAM', 2010, 'AIZAWL', 23)\n",
      "('ARUNACHAL PRADESH', 2007, 'LOHIT', 17)\n",
      "('A & N ISLANDS', 2003, 'ANDAMAN', 16)\n",
      "('D & N HAVELI', 2011, 'D and N HAVELI', 14)\n",
      "('SIKKIM', 2001, 'EAST', 13)\n",
      "('DAMAN & DIU', 2007, 'DAMAN', 12)\n",
      "('LAKSHADWEEP', 2001, 'LAKSHADWEEP', 1)\n"
     ]
    }
   ],
   "source": [
    "result=cursor.execute(\"SELECT  state UT, Year,DISTRICT ,MAX(MURDER) FROM crime_ipc women WHERE NOT DISTRICT='TOTAL' AND NOT DISTRICT='DELHI UT TOTAL' GROUP BY UT ORDER BY MURDER DESC\")\n",
    "for row in result:\n",
    "    print(row)"
   ]
  },
  {
   "cell_type": "code",
   "execution_count": 132,
   "id": "86fb4d81",
   "metadata": {},
   "outputs": [],
   "source": [
    "dfsql=pd.read_sql(\"SELECT  state UT, Year,DISTRICT ,MAX(MURDER) AS Murder FROM crime_ipc women WHERE NOT DISTRICT='TOTAL' AND NOT DISTRICT='DELHI UT TOTAL' GROUP BY UT ORDER BY MURDER DESC \",db)\n"
   ]
  },
  {
   "cell_type": "code",
   "execution_count": 133,
   "id": "e4341ba3",
   "metadata": {},
   "outputs": [
    {
     "data": {
      "text/html": [
       "<div>\n",
       "<style scoped>\n",
       "    .dataframe tbody tr th:only-of-type {\n",
       "        vertical-align: middle;\n",
       "    }\n",
       "\n",
       "    .dataframe tbody tr th {\n",
       "        vertical-align: top;\n",
       "    }\n",
       "\n",
       "    .dataframe thead th {\n",
       "        text-align: right;\n",
       "    }\n",
       "</style>\n",
       "<table border=\"1\" class=\"dataframe\">\n",
       "  <thead>\n",
       "    <tr style=\"text-align: right;\">\n",
       "      <th></th>\n",
       "      <th>UT</th>\n",
       "      <th>YEAR</th>\n",
       "      <th>DISTRICT</th>\n",
       "      <th>Murder</th>\n",
       "    </tr>\n",
       "  </thead>\n",
       "  <tbody>\n",
       "    <tr>\n",
       "      <th>0</th>\n",
       "      <td>BIHAR</td>\n",
       "      <td>2004</td>\n",
       "      <td>PATNA</td>\n",
       "      <td>542</td>\n",
       "    </tr>\n",
       "    <tr>\n",
       "      <th>1</th>\n",
       "      <td>UTTAR PRADESH</td>\n",
       "      <td>2001</td>\n",
       "      <td>MUZAFFARNAGAR</td>\n",
       "      <td>324</td>\n",
       "    </tr>\n",
       "    <tr>\n",
       "      <th>2</th>\n",
       "      <td>MAHARASHTRA</td>\n",
       "      <td>2001</td>\n",
       "      <td>MUMBAI</td>\n",
       "      <td>295</td>\n",
       "    </tr>\n",
       "    <tr>\n",
       "      <th>3</th>\n",
       "      <td>JHARKHAND</td>\n",
       "      <td>2002</td>\n",
       "      <td>RANCHI</td>\n",
       "      <td>270</td>\n",
       "    </tr>\n",
       "    <tr>\n",
       "      <th>4</th>\n",
       "      <td>WEST BENGAL</td>\n",
       "      <td>2010</td>\n",
       "      <td>PASCHIM MIDNAPUR</td>\n",
       "      <td>268</td>\n",
       "    </tr>\n",
       "    <tr>\n",
       "      <th>5</th>\n",
       "      <td>KARNATAKA</td>\n",
       "      <td>2010</td>\n",
       "      <td>BANGALORE COMMR.</td>\n",
       "      <td>266</td>\n",
       "    </tr>\n",
       "    <tr>\n",
       "      <th>6</th>\n",
       "      <td>GUJARAT</td>\n",
       "      <td>2002</td>\n",
       "      <td>AHMEDABAD COMMR.</td>\n",
       "      <td>222</td>\n",
       "    </tr>\n",
       "    <tr>\n",
       "      <th>7</th>\n",
       "      <td>ANDHRA PRADESH</td>\n",
       "      <td>2001</td>\n",
       "      <td>RANGA REDDY</td>\n",
       "      <td>214</td>\n",
       "    </tr>\n",
       "    <tr>\n",
       "      <th>8</th>\n",
       "      <td>TAMIL NADU</td>\n",
       "      <td>2012</td>\n",
       "      <td>CHENNAI</td>\n",
       "      <td>180</td>\n",
       "    </tr>\n",
       "    <tr>\n",
       "      <th>9</th>\n",
       "      <td>JAMMU &amp; KASHMIR</td>\n",
       "      <td>2001</td>\n",
       "      <td>BARAMULLA</td>\n",
       "      <td>144</td>\n",
       "    </tr>\n",
       "    <tr>\n",
       "      <th>10</th>\n",
       "      <td>ASSAM</td>\n",
       "      <td>2007</td>\n",
       "      <td>TINSUKIA</td>\n",
       "      <td>143</td>\n",
       "    </tr>\n",
       "    <tr>\n",
       "      <th>11</th>\n",
       "      <td>MADHYA PRADESH</td>\n",
       "      <td>2004</td>\n",
       "      <td>JHABUA</td>\n",
       "      <td>139</td>\n",
       "    </tr>\n",
       "    <tr>\n",
       "      <th>12</th>\n",
       "      <td>CHHATTISGARH</td>\n",
       "      <td>2006</td>\n",
       "      <td>BIZAPUR</td>\n",
       "      <td>139</td>\n",
       "    </tr>\n",
       "    <tr>\n",
       "      <th>13</th>\n",
       "      <td>TRIPURA</td>\n",
       "      <td>2003</td>\n",
       "      <td>WEST</td>\n",
       "      <td>136</td>\n",
       "    </tr>\n",
       "    <tr>\n",
       "      <th>14</th>\n",
       "      <td>DELHI UT</td>\n",
       "      <td>2002</td>\n",
       "      <td>NORTH WEST</td>\n",
       "      <td>135</td>\n",
       "    </tr>\n",
       "    <tr>\n",
       "      <th>15</th>\n",
       "      <td>ODISHA</td>\n",
       "      <td>2009</td>\n",
       "      <td>KEONJHAR</td>\n",
       "      <td>109</td>\n",
       "    </tr>\n",
       "    <tr>\n",
       "      <th>16</th>\n",
       "      <td>RAJASTHAN</td>\n",
       "      <td>2011</td>\n",
       "      <td>ALWAR</td>\n",
       "      <td>104</td>\n",
       "    </tr>\n",
       "    <tr>\n",
       "      <th>17</th>\n",
       "      <td>UTTARAKHAND</td>\n",
       "      <td>2001</td>\n",
       "      <td>HARIDWAR</td>\n",
       "      <td>94</td>\n",
       "    </tr>\n",
       "    <tr>\n",
       "      <th>18</th>\n",
       "      <td>HARYANA</td>\n",
       "      <td>2006</td>\n",
       "      <td>GURGAON</td>\n",
       "      <td>93</td>\n",
       "    </tr>\n",
       "    <tr>\n",
       "      <th>19</th>\n",
       "      <td>PUNJAB</td>\n",
       "      <td>2010</td>\n",
       "      <td>CP LUDHIANA</td>\n",
       "      <td>90</td>\n",
       "    </tr>\n",
       "    <tr>\n",
       "      <th>20</th>\n",
       "      <td>NAGALAND</td>\n",
       "      <td>2008</td>\n",
       "      <td>DIMAPUR</td>\n",
       "      <td>64</td>\n",
       "    </tr>\n",
       "    <tr>\n",
       "      <th>21</th>\n",
       "      <td>MANIPUR</td>\n",
       "      <td>2007</td>\n",
       "      <td>IMPHAL WEST</td>\n",
       "      <td>61</td>\n",
       "    </tr>\n",
       "    <tr>\n",
       "      <th>22</th>\n",
       "      <td>KERALA</td>\n",
       "      <td>2002</td>\n",
       "      <td>TRIVANDRUM</td>\n",
       "      <td>58</td>\n",
       "    </tr>\n",
       "    <tr>\n",
       "      <th>23</th>\n",
       "      <td>MEGHALAYA</td>\n",
       "      <td>2003</td>\n",
       "      <td>JAINTIA HILLS</td>\n",
       "      <td>52</td>\n",
       "    </tr>\n",
       "    <tr>\n",
       "      <th>24</th>\n",
       "      <td>HIMACHAL PRADESH</td>\n",
       "      <td>2003</td>\n",
       "      <td>KANGRA</td>\n",
       "      <td>38</td>\n",
       "    </tr>\n",
       "    <tr>\n",
       "      <th>25</th>\n",
       "      <td>GOA</td>\n",
       "      <td>2009</td>\n",
       "      <td>NORTH GOA</td>\n",
       "      <td>33</td>\n",
       "    </tr>\n",
       "    <tr>\n",
       "      <th>26</th>\n",
       "      <td>PUDUCHERRY</td>\n",
       "      <td>2011</td>\n",
       "      <td>PUDUCHERRY</td>\n",
       "      <td>32</td>\n",
       "    </tr>\n",
       "    <tr>\n",
       "      <th>27</th>\n",
       "      <td>CHANDIGARH</td>\n",
       "      <td>2002</td>\n",
       "      <td>CHANDIGARH</td>\n",
       "      <td>31</td>\n",
       "    </tr>\n",
       "    <tr>\n",
       "      <th>28</th>\n",
       "      <td>MIZORAM</td>\n",
       "      <td>2010</td>\n",
       "      <td>AIZAWL</td>\n",
       "      <td>23</td>\n",
       "    </tr>\n",
       "    <tr>\n",
       "      <th>29</th>\n",
       "      <td>ARUNACHAL PRADESH</td>\n",
       "      <td>2007</td>\n",
       "      <td>LOHIT</td>\n",
       "      <td>17</td>\n",
       "    </tr>\n",
       "    <tr>\n",
       "      <th>30</th>\n",
       "      <td>A &amp; N ISLANDS</td>\n",
       "      <td>2003</td>\n",
       "      <td>ANDAMAN</td>\n",
       "      <td>16</td>\n",
       "    </tr>\n",
       "    <tr>\n",
       "      <th>31</th>\n",
       "      <td>D &amp; N HAVELI</td>\n",
       "      <td>2011</td>\n",
       "      <td>D and N HAVELI</td>\n",
       "      <td>14</td>\n",
       "    </tr>\n",
       "    <tr>\n",
       "      <th>32</th>\n",
       "      <td>SIKKIM</td>\n",
       "      <td>2001</td>\n",
       "      <td>EAST</td>\n",
       "      <td>13</td>\n",
       "    </tr>\n",
       "    <tr>\n",
       "      <th>33</th>\n",
       "      <td>DAMAN &amp; DIU</td>\n",
       "      <td>2007</td>\n",
       "      <td>DAMAN</td>\n",
       "      <td>12</td>\n",
       "    </tr>\n",
       "    <tr>\n",
       "      <th>34</th>\n",
       "      <td>LAKSHADWEEP</td>\n",
       "      <td>2001</td>\n",
       "      <td>LAKSHADWEEP</td>\n",
       "      <td>1</td>\n",
       "    </tr>\n",
       "  </tbody>\n",
       "</table>\n",
       "</div>"
      ],
      "text/plain": [
       "                   UT  YEAR          DISTRICT  Murder\n",
       "0               BIHAR  2004             PATNA     542\n",
       "1       UTTAR PRADESH  2001     MUZAFFARNAGAR     324\n",
       "2         MAHARASHTRA  2001            MUMBAI     295\n",
       "3           JHARKHAND  2002            RANCHI     270\n",
       "4         WEST BENGAL  2010  PASCHIM MIDNAPUR     268\n",
       "5           KARNATAKA  2010  BANGALORE COMMR.     266\n",
       "6             GUJARAT  2002  AHMEDABAD COMMR.     222\n",
       "7      ANDHRA PRADESH  2001       RANGA REDDY     214\n",
       "8          TAMIL NADU  2012           CHENNAI     180\n",
       "9     JAMMU & KASHMIR  2001         BARAMULLA     144\n",
       "10              ASSAM  2007          TINSUKIA     143\n",
       "11     MADHYA PRADESH  2004            JHABUA     139\n",
       "12       CHHATTISGARH  2006           BIZAPUR     139\n",
       "13            TRIPURA  2003              WEST     136\n",
       "14           DELHI UT  2002        NORTH WEST     135\n",
       "15             ODISHA  2009          KEONJHAR     109\n",
       "16          RAJASTHAN  2011             ALWAR     104\n",
       "17        UTTARAKHAND  2001          HARIDWAR      94\n",
       "18            HARYANA  2006           GURGAON      93\n",
       "19             PUNJAB  2010       CP LUDHIANA      90\n",
       "20           NAGALAND  2008           DIMAPUR      64\n",
       "21            MANIPUR  2007       IMPHAL WEST      61\n",
       "22             KERALA  2002        TRIVANDRUM      58\n",
       "23          MEGHALAYA  2003     JAINTIA HILLS      52\n",
       "24   HIMACHAL PRADESH  2003            KANGRA      38\n",
       "25                GOA  2009         NORTH GOA      33\n",
       "26         PUDUCHERRY  2011        PUDUCHERRY      32\n",
       "27         CHANDIGARH  2002        CHANDIGARH      31\n",
       "28            MIZORAM  2010            AIZAWL      23\n",
       "29  ARUNACHAL PRADESH  2007             LOHIT      17\n",
       "30      A & N ISLANDS  2003           ANDAMAN      16\n",
       "31       D & N HAVELI  2011    D and N HAVELI      14\n",
       "32             SIKKIM  2001              EAST      13\n",
       "33        DAMAN & DIU  2007             DAMAN      12\n",
       "34        LAKSHADWEEP  2001       LAKSHADWEEP       1"
      ]
     },
     "execution_count": 133,
     "metadata": {},
     "output_type": "execute_result"
    }
   ],
   "source": [
    "#converting into dataframe\n",
    "dfsql"
   ]
  },
  {
   "cell_type": "code",
   "execution_count": 134,
   "id": "1e23ff9a",
   "metadata": {},
   "outputs": [],
   "source": [
    "#3.8.3 Store the above data (the result of 3.2) in DataFrame and analyze districts that appear 3 or more than 3 years and print the corresponding state/ut, district, murders, and year in descending order."
   ]
  },
  {
   "cell_type": "code",
   "execution_count": 135,
   "id": "3d6c25bb",
   "metadata": {},
   "outputs": [
    {
     "name": "stdout",
     "output_type": "stream",
     "text": [
      "('\"STATE/UT\"', '\"DISTRICT\"', '\"Year\"', '\"Rape\"', '\"Kidnapping and Abduction\"')\n",
      "('\"UTTAR PRADESH\"', '\"TOTAL\"', 2012, 3425, 7910)\n",
      "('\"UTTAR PRADESH\"', '\"TOTAL\"', 2011, 3406, 7525)\n",
      "('\"UTTAR PRADESH\"', '\"TOTAL\"', 2010, 3135, 5468)\n",
      "('\"UTTAR PRADESH\"', '\"TOTAL\"', 2009, 2998, 5078)\n",
      "('\"UTTAR PRADESH\"', '\"TOTAL\"', 2008, 2937, 4439)\n",
      "('\"UTTAR PRADESH\"', '\"TOTAL\"', 2007, 3010, 3363)\n",
      "('\"UTTAR PRADESH\"', '\"TOTAL\"', 2001, 2851, 2879)\n",
      "('\"UTTAR PRADESH\"', '\"TOTAL\"', 2006, 2900, 2551)\n",
      "('\"UTTAR PRADESH\"', '\"TOTAL\"', 2004, 2875, 2324)\n",
      "('\"UTTAR PRADESH\"', '\"TOTAL\"', 2002, 2891, 2298)\n",
      "('\"UTTAR PRADESH\"', '\"TOTAL\"', 2005, 2921, 2256)\n",
      "('\"RAJASTHAN\"', '\"TOTAL\"', 2003, 2738, 1750)\n"
     ]
    }
   ],
   "source": [
    "#.3.2 Write SQL query to find the highest number of rapes & Kidnappings that happened in which state, District, and year\n",
    "\n",
    "data=cursor.execute(\"SELECT  state UT, DISTRICT ,Year ,MAX(Rape), MAX(Kindanpping) FROM crimes_against_women WHERE NOT DISTRICT='TOTAL' AND NOT DISTRICT='DELHI UT TOTAL' GROUP BY Year ORDER BY Kindanpping DESC\")\n",
    "for row in data:\n",
    "    print(row)"
   ]
  },
  {
   "cell_type": "code",
   "execution_count": 136,
   "id": "99fe6e7d",
   "metadata": {},
   "outputs": [],
   "source": [
    "#Converting into DataFrame"
   ]
  },
  {
   "cell_type": "code",
   "execution_count": 137,
   "id": "6546a64b",
   "metadata": {},
   "outputs": [
    {
     "data": {
      "text/html": [
       "<div>\n",
       "<style scoped>\n",
       "    .dataframe tbody tr th:only-of-type {\n",
       "        vertical-align: middle;\n",
       "    }\n",
       "\n",
       "    .dataframe tbody tr th {\n",
       "        vertical-align: top;\n",
       "    }\n",
       "\n",
       "    .dataframe thead th {\n",
       "        text-align: right;\n",
       "    }\n",
       "</style>\n",
       "<table border=\"1\" class=\"dataframe\">\n",
       "  <thead>\n",
       "    <tr style=\"text-align: right;\">\n",
       "      <th></th>\n",
       "      <th>UT</th>\n",
       "      <th>DISTRICT</th>\n",
       "      <th>Year</th>\n",
       "      <th>Rape</th>\n",
       "      <th>Kidnapping</th>\n",
       "    </tr>\n",
       "  </thead>\n",
       "  <tbody>\n",
       "    <tr>\n",
       "      <th>0</th>\n",
       "      <td>\"STATE/UT\"</td>\n",
       "      <td>\"DISTRICT\"</td>\n",
       "      <td>\"Year\"</td>\n",
       "      <td>\"Rape\"</td>\n",
       "      <td>\"Kidnapping and Abduction\"</td>\n",
       "    </tr>\n",
       "    <tr>\n",
       "      <th>1</th>\n",
       "      <td>\"UTTAR PRADESH\"</td>\n",
       "      <td>\"TOTAL\"</td>\n",
       "      <td>2012</td>\n",
       "      <td>3425</td>\n",
       "      <td>7910</td>\n",
       "    </tr>\n",
       "    <tr>\n",
       "      <th>2</th>\n",
       "      <td>\"UTTAR PRADESH\"</td>\n",
       "      <td>\"TOTAL\"</td>\n",
       "      <td>2011</td>\n",
       "      <td>3406</td>\n",
       "      <td>7525</td>\n",
       "    </tr>\n",
       "    <tr>\n",
       "      <th>3</th>\n",
       "      <td>\"UTTAR PRADESH\"</td>\n",
       "      <td>\"TOTAL\"</td>\n",
       "      <td>2010</td>\n",
       "      <td>3135</td>\n",
       "      <td>5468</td>\n",
       "    </tr>\n",
       "    <tr>\n",
       "      <th>4</th>\n",
       "      <td>\"UTTAR PRADESH\"</td>\n",
       "      <td>\"TOTAL\"</td>\n",
       "      <td>2009</td>\n",
       "      <td>2998</td>\n",
       "      <td>5078</td>\n",
       "    </tr>\n",
       "    <tr>\n",
       "      <th>5</th>\n",
       "      <td>\"UTTAR PRADESH\"</td>\n",
       "      <td>\"TOTAL\"</td>\n",
       "      <td>2008</td>\n",
       "      <td>2937</td>\n",
       "      <td>4439</td>\n",
       "    </tr>\n",
       "    <tr>\n",
       "      <th>6</th>\n",
       "      <td>\"UTTAR PRADESH\"</td>\n",
       "      <td>\"TOTAL\"</td>\n",
       "      <td>2007</td>\n",
       "      <td>3010</td>\n",
       "      <td>3363</td>\n",
       "    </tr>\n",
       "    <tr>\n",
       "      <th>7</th>\n",
       "      <td>\"UTTAR PRADESH\"</td>\n",
       "      <td>\"TOTAL\"</td>\n",
       "      <td>2001</td>\n",
       "      <td>2851</td>\n",
       "      <td>2879</td>\n",
       "    </tr>\n",
       "    <tr>\n",
       "      <th>8</th>\n",
       "      <td>\"UTTAR PRADESH\"</td>\n",
       "      <td>\"TOTAL\"</td>\n",
       "      <td>2006</td>\n",
       "      <td>2900</td>\n",
       "      <td>2551</td>\n",
       "    </tr>\n",
       "    <tr>\n",
       "      <th>9</th>\n",
       "      <td>\"UTTAR PRADESH\"</td>\n",
       "      <td>\"TOTAL\"</td>\n",
       "      <td>2004</td>\n",
       "      <td>2875</td>\n",
       "      <td>2324</td>\n",
       "    </tr>\n",
       "    <tr>\n",
       "      <th>10</th>\n",
       "      <td>\"UTTAR PRADESH\"</td>\n",
       "      <td>\"TOTAL\"</td>\n",
       "      <td>2002</td>\n",
       "      <td>2891</td>\n",
       "      <td>2298</td>\n",
       "    </tr>\n",
       "    <tr>\n",
       "      <th>11</th>\n",
       "      <td>\"UTTAR PRADESH\"</td>\n",
       "      <td>\"TOTAL\"</td>\n",
       "      <td>2005</td>\n",
       "      <td>2921</td>\n",
       "      <td>2256</td>\n",
       "    </tr>\n",
       "    <tr>\n",
       "      <th>12</th>\n",
       "      <td>\"RAJASTHAN\"</td>\n",
       "      <td>\"TOTAL\"</td>\n",
       "      <td>2003</td>\n",
       "      <td>2738</td>\n",
       "      <td>1750</td>\n",
       "    </tr>\n",
       "  </tbody>\n",
       "</table>\n",
       "</div>"
      ],
      "text/plain": [
       "                 UT    DISTRICT    Year    Rape                  Kidnapping\n",
       "0        \"STATE/UT\"  \"DISTRICT\"  \"Year\"  \"Rape\"  \"Kidnapping and Abduction\"\n",
       "1   \"UTTAR PRADESH\"     \"TOTAL\"    2012    3425                        7910\n",
       "2   \"UTTAR PRADESH\"     \"TOTAL\"    2011    3406                        7525\n",
       "3   \"UTTAR PRADESH\"     \"TOTAL\"    2010    3135                        5468\n",
       "4   \"UTTAR PRADESH\"     \"TOTAL\"    2009    2998                        5078\n",
       "5   \"UTTAR PRADESH\"     \"TOTAL\"    2008    2937                        4439\n",
       "6   \"UTTAR PRADESH\"     \"TOTAL\"    2007    3010                        3363\n",
       "7   \"UTTAR PRADESH\"     \"TOTAL\"    2001    2851                        2879\n",
       "8   \"UTTAR PRADESH\"     \"TOTAL\"    2006    2900                        2551\n",
       "9   \"UTTAR PRADESH\"     \"TOTAL\"    2004    2875                        2324\n",
       "10  \"UTTAR PRADESH\"     \"TOTAL\"    2002    2891                        2298\n",
       "11  \"UTTAR PRADESH\"     \"TOTAL\"    2005    2921                        2256\n",
       "12      \"RAJASTHAN\"     \"TOTAL\"    2003    2738                        1750"
      ]
     },
     "execution_count": 137,
     "metadata": {},
     "output_type": "execute_result"
    }
   ],
   "source": [
    "dataframe=pd.read_sql(\"SELECT  state UT, DISTRICT ,Year ,MAX(Rape) AS Rape, MAX(Kindanpping) AS Kidnapping FROM crimes_against_women WHERE NOT DISTRICT='TOTAL' AND NOT DISTRICT='DELHI UT TOTAL' GROUP BY Year ORDER BY Kindanpping DESC\",db)\n",
    "dataframe"
   ]
  },
  {
   "cell_type": "code",
   "execution_count": 138,
   "id": "3922482a",
   "metadata": {},
   "outputs": [
    {
     "data": {
      "text/plain": [
       "\"TOTAL\"       12\n",
       "\"DISTRICT\"     1\n",
       "Name: DISTRICT, dtype: int64"
      ]
     },
     "execution_count": 138,
     "metadata": {},
     "output_type": "execute_result"
    }
   ],
   "source": [
    "dataframe['DISTRICT'].value_counts()"
   ]
  },
  {
   "cell_type": "code",
   "execution_count": 139,
   "id": "3f126cbe",
   "metadata": {},
   "outputs": [],
   "source": [
    "from sqlalchemy import create_engine"
   ]
  },
  {
   "cell_type": "code",
   "execution_count": 140,
   "id": "ec464744",
   "metadata": {},
   "outputs": [],
   "source": [
    "engine = create_engine(\"sqlite+pysqlite:///:memory:\")"
   ]
  },
  {
   "cell_type": "code",
   "execution_count": 141,
   "id": "5067bc0b",
   "metadata": {},
   "outputs": [
    {
     "data": {
      "text/plain": [
       "13"
      ]
     },
     "execution_count": 141,
     "metadata": {},
     "output_type": "execute_result"
    }
   ],
   "source": [
    "dataframe.to_sql('district_data', engine)"
   ]
  },
  {
   "cell_type": "code",
   "execution_count": 142,
   "id": "fb013fa4",
   "metadata": {},
   "outputs": [],
   "source": [
    "from sqlalchemy import text"
   ]
  },
  {
   "cell_type": "code",
   "execution_count": 143,
   "id": "7265bede",
   "metadata": {},
   "outputs": [
    {
     "name": "stdout",
     "output_type": "stream",
     "text": [
      "('\"UTTAR PRADESH\"', '\"TOTAL\"', '2012')\n",
      "('\"UTTAR PRADESH\"', '\"TOTAL\"', '2011')\n",
      "('\"UTTAR PRADESH\"', '\"TOTAL\"', '2010')\n"
     ]
    }
   ],
   "source": [
    "with engine.connect() as conn:\n",
    "    result = conn.execute(text(\"select UT, DISTRICT ,Year FROM district_data ORDER BY UT DESC LIMIT 3\"))\n",
    "    for row in result:\n",
    "        print(row)"
   ]
  },
  {
   "cell_type": "code",
   "execution_count": 144,
   "id": "b0136297",
   "metadata": {},
   "outputs": [],
   "source": [
    "#3.8.4 Use appropriate graphs to show your data (the result of 3.8.3)"
   ]
  },
  {
   "cell_type": "code",
   "execution_count": 145,
   "id": "67d63d98",
   "metadata": {},
   "outputs": [],
   "source": [
    "import matplotlib.pyplot as plt\n",
    "import seaborn as sns"
   ]
  },
  {
   "cell_type": "code",
   "execution_count": 146,
   "id": "4839d66c",
   "metadata": {},
   "outputs": [
    {
     "data": {
      "text/plain": [
       "<AxesSubplot:xlabel='DISTRICT', ylabel='count'>"
      ]
     },
     "execution_count": 146,
     "metadata": {},
     "output_type": "execute_result"
    },
    {
     "data": {
      "image/png": "[encoded data removed]",
      "text/plain": [
       "<Figure size 640x480 with 1 Axes>"
      ]
     },
     "metadata": {},
     "output_type": "display_data"
    }
   ],
   "source": [
    "sns.countplot(x='DISTRICT', data=dataframe)\n"
   ]
  },
  {
   "cell_type": "code",
   "execution_count": 158,
   "id": "5f55a480",
   "metadata": {},
   "outputs": [],
   "source": [
    "dataframe['Rape'] = pd.to_numeric(dataframe['Rape'], errors='coerce')"
   ]
  },
  {
   "cell_type": "code",
   "execution_count": 159,
   "id": "bf8d602b",
   "metadata": {},
   "outputs": [
    {
     "data": {
      "text/plain": [
       "<AxesSubplot:xlabel='DISTRICT', ylabel='count'>"
      ]
     },
     "execution_count": 159,
     "metadata": {},
     "output_type": "execute_result"
    },
    {
     "data": {
      "image/png": "[encoded data removed]",
      "text/plain": [
       "<Figure size 640x480 with 1 Axes>"
      ]
     },
     "metadata": {},
     "output_type": "display_data"
    }
   ],
   "source": [
    "sns.countplot(x='DISTRICT', data=dataframe)\n"
   ]
  },
  {
   "cell_type": "code",
   "execution_count": 160,
   "id": "90af2e2f",
   "metadata": {},
   "outputs": [
    {
     "data": {
      "image/png": "[encoded data removed]",
      "text/plain": [
       "<Figure size 600x400 with 1 Axes>"
      ]
     },
     "metadata": {},
     "output_type": "display_data"
    }
   ],
   "source": [
    "plt.figure(figsize=(6,4))\n",
    "sns.barplot(x=dataframe['DISTRICT'], y=dataframe['Rape'])\n",
    "plt.xticks(rotation='90')\n",
    "plt.show()"
   ]
  },
  {
   "cell_type": "code",
   "execution_count": 161,
   "id": "4f594dbc",
   "metadata": {},
   "outputs": [],
   "source": [
    "#Anlaysis of District vs Kidnapping"
   ]
  },
  {
   "cell_type": "code",
   "execution_count": 162,
   "id": "a3f24dc2",
   "metadata": {},
   "outputs": [
    {
     "data": {
      "image/png": "[encoded data removed]",
      "text/plain": [
       "<Figure size 600x400 with 1 Axes>"
      ]
     },
     "metadata": {},
     "output_type": "display_data"
    }
   ],
   "source": [
    "plt.figure(figsize=(6,4))\n",
    "sns.barplot(x=dataframe['DISTRICT'], y=dataframe['Kidnapping'])\n",
    "plt.xticks(rotation='90')\n",
    "plt.show()"
   ]
  },
  {
   "cell_type": "code",
   "execution_count": null,
   "id": "02684ae8",
   "metadata": {},
   "outputs": [],
   "source": []
  },
  {
   "cell_type": "code",
   "execution_count": null,
   "id": "8064a4ac",
   "metadata": {},
   "outputs": [],
   "source": []
  }
 ],
 "metadata": {
  "kernelspec": {
   "display_name": "Python 3 (ipykernel)",
   "language": "python",
   "name": "python3"
  },
  "language_info": {
   "codemirror_mode": {
    "name": "ipython",
    "version": 3
   },
   "file_extension": ".py",
   "mimetype": "text/x-python",
   "name": "python",
   "nbconvert_exporter": "python",
   "pygments_lexer": "ipython3",
   "version": "3.9.13"
  }
 },
 "nbformat": 4,
 "nbformat_minor": 5
}
